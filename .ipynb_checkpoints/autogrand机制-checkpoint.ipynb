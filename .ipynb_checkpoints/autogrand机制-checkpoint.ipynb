{
 "cells": [
  {
   "cell_type": "code",
   "execution_count": 1,
   "id": "b05980b0",
   "metadata": {},
   "outputs": [],
   "source": [
    "import torch"
   ]
  },
  {
   "cell_type": "code",
   "execution_count": 3,
   "id": "4de125fd",
   "metadata": {},
   "outputs": [
    {
     "data": {
      "text/plain": [
       "tensor([[0.0854, 0.4192, 0.0933, 0.2559, 0.4269],\n",
       "        [0.4953, 0.8518, 0.7617, 0.4807, 0.2599],\n",
       "        [0.0899, 0.4543, 0.7237, 0.6504, 0.4462],\n",
       "        [0.9684, 0.0201, 0.6481, 0.6018, 0.7752],\n",
       "        [0.7543, 0.6368, 0.8518, 0.2948, 0.9654]], requires_grad=True)"
      ]
     },
     "execution_count": 3,
     "metadata": {},
     "output_type": "execute_result"
    }
   ],
   "source": [
    "#requires_grad 自动求导机制\n",
    "x = torch.rand(5,5,requires_grad = True)\n",
    "x"
   ]
  },
  {
   "cell_type": "code",
   "execution_count": 4,
   "id": "3925cf3f",
   "metadata": {},
   "outputs": [],
   "source": [
    "b = torch.rand(5,5,requires_grad = True)"
   ]
  },
  {
   "cell_type": "code",
   "execution_count": 5,
   "id": "6d18cf9a",
   "metadata": {},
   "outputs": [],
   "source": [
    "t = x+b"
   ]
  },
  {
   "cell_type": "code",
   "execution_count": 6,
   "id": "f8c83f57",
   "metadata": {},
   "outputs": [],
   "source": [
    "y = t.sum()"
   ]
  },
  {
   "cell_type": "code",
   "execution_count": 7,
   "id": "bb75e631",
   "metadata": {},
   "outputs": [
    {
     "data": {
      "text/plain": [
       "tensor(25.5159, grad_fn=<SumBackward0>)"
      ]
     },
     "execution_count": 7,
     "metadata": {},
     "output_type": "execute_result"
    }
   ],
   "source": [
    "y"
   ]
  },
  {
   "cell_type": "code",
   "execution_count": 9,
   "id": "a963f54e",
   "metadata": {},
   "outputs": [],
   "source": [
    "#反向传播，之前的t，也可以自动求导\n",
    "y.backward()"
   ]
  },
  {
   "cell_type": "code",
   "execution_count": 10,
   "id": "0478a3cf",
   "metadata": {},
   "outputs": [
    {
     "data": {
      "text/plain": [
       "tensor([[1., 1., 1., 1., 1.],\n",
       "        [1., 1., 1., 1., 1.],\n",
       "        [1., 1., 1., 1., 1.],\n",
       "        [1., 1., 1., 1., 1.],\n",
       "        [1., 1., 1., 1., 1.]])"
      ]
     },
     "execution_count": 10,
     "metadata": {},
     "output_type": "execute_result"
    }
   ],
   "source": [
    "#对d求导\n",
    "b.grad"
   ]
  },
  {
   "cell_type": "code",
   "execution_count": 11,
   "id": "56ad1ab2",
   "metadata": {},
   "outputs": [
    {
     "data": {
      "text/plain": [
       "True"
      ]
     },
     "execution_count": 11,
     "metadata": {},
     "output_type": "execute_result"
    }
   ],
   "source": [
    "t.requires_grad"
   ]
  },
  {
   "cell_type": "markdown",
   "id": "4813e4f3",
   "metadata": {},
   "source": [
    "#线性回归模型"
   ]
  },
  {
   "cell_type": "code",
   "execution_count": 1,
   "id": "5bd32c4a",
   "metadata": {},
   "outputs": [],
   "source": [
    "import numpy as np"
   ]
  },
  {
   "cell_type": "code",
   "execution_count": 17,
   "id": "6cfd726d",
   "metadata": {},
   "outputs": [
    {
     "data": {
      "text/plain": [
       "(11, 1)"
      ]
     },
     "execution_count": 17,
     "metadata": {},
     "output_type": "execute_result"
    }
   ],
   "source": [
    "x_values=[i for i in range(11) ]\n",
    "x_train = np.array(x_values, dtype=np.float32)\n",
    "x_train = x_train.reshape(-1,1)\n",
    "x_train.shape"
   ]
  },
  {
   "cell_type": "code",
   "execution_count": 18,
   "id": "241b4ef2",
   "metadata": {},
   "outputs": [
    {
     "data": {
      "text/plain": [
       "(11, 1)"
      ]
     },
     "execution_count": 18,
     "metadata": {},
     "output_type": "execute_result"
    }
   ],
   "source": [
    "y_values=[2*i+1 for i in x_values]\n",
    "y_train = np.array(y_values, dtype = np.float32)\n",
    "y_train = y_train.reshape(-1,1)\n",
    "y_train.shape"
   ]
  },
  {
   "cell_type": "code",
   "execution_count": 19,
   "id": "6fa9160e",
   "metadata": {},
   "outputs": [],
   "source": [
    "import torch\n",
    "import torch.nn as nn"
   ]
  },
  {
   "cell_type": "code",
   "execution_count": 20,
   "id": "33bd401b",
   "metadata": {},
   "outputs": [],
   "source": [
    "class LinearRegressionModel(nn.Module):\n",
    "    def __init__(self, input_dim, output_dim):\n",
    "        super(LinearRegressionModel, self).__init__()\n",
    "        self.linear = nn.Linear(input_dim, output_dim)\n",
    "        \n",
    "    def forward(self, x):\n",
    "        out = self.linear(x)\n",
    "        return out"
   ]
  },
  {
   "cell_type": "code",
   "execution_count": 21,
   "id": "e3f3d4c5",
   "metadata": {},
   "outputs": [
    {
     "data": {
      "text/plain": [
       "LinearRegressionModel(\n",
       "  (linear): Linear(in_features=1, out_features=1, bias=True)\n",
       ")"
      ]
     },
     "execution_count": 21,
     "metadata": {},
     "output_type": "execute_result"
    }
   ],
   "source": [
    "input_dim = 1\n",
    "output_dim = 1\n",
    "model = LinearRegressionModel(input_dim, output_dim)\n",
    "#使用GPU训练，把数据和模型传入到cuda中。\n",
    "#device = torch.device(\"cuda:0\" if torch.cuda.is_available() else \"cpu\")\n",
    "#model.to(device)\n",
    "model"
   ]
  },
  {
   "cell_type": "markdown",
   "id": "238d57a8",
   "metadata": {},
   "source": [
    "#指定参数和损失函数"
   ]
  },
  {
   "cell_type": "code",
   "execution_count": 22,
   "id": "07821f43",
   "metadata": {},
   "outputs": [],
   "source": [
    "epochs = 1000#学习次数\n",
    "learning_rate = 0.01#学习率\n",
    "optimizer = torch.optim.SGD(model.parameters(), lr = learning_rate)#优化器\n",
    "criterion = nn.MSELoss()#损失函数 均方误差"
   ]
  },
  {
   "cell_type": "code",
   "execution_count": 23,
   "id": "e21db99b",
   "metadata": {},
   "outputs": [
    {
     "name": "stdout",
     "output_type": "stream",
     "text": [
      "epoch50, loss0.04375334084033966\n",
      "epoch100, loss0.02495523728430271\n",
      "epoch150, loss0.014233517460525036\n",
      "epoch200, loss0.008118268102407455\n",
      "epoch250, loss0.004630370065569878\n",
      "epoch300, loss0.002640992170199752\n",
      "epoch350, loss0.0015063255559653044\n",
      "epoch400, loss0.0008591439691372216\n",
      "epoch450, loss0.000490024161990732\n",
      "epoch500, loss0.0002794841711875051\n",
      "epoch550, loss0.0001594077330082655\n",
      "epoch600, loss9.092369873542339e-05\n",
      "epoch650, loss5.1857266953447834e-05\n",
      "epoch700, loss2.9579259717138484e-05\n",
      "epoch750, loss1.687000985839404e-05\n",
      "epoch800, loss9.622011020837817e-06\n",
      "epoch850, loss5.489024260896258e-06\n",
      "epoch900, loss3.1310751182900276e-06\n",
      "epoch950, loss1.7853966483016848e-06\n",
      "epoch1000, loss1.0181848892898415e-06\n"
     ]
    }
   ],
   "source": [
    "for epoch in range(epochs):\n",
    "    epoch+=1\n",
    "    #转换为tensor\n",
    "    inputs = torch.from_numpy(x_train)\n",
    "    labels = torch.from_numpy(y_train)\n",
    "    # 使用gpu训练\n",
    "#     inputs = torch.from_numpy(x_train).to(device)\n",
    "#     labels = torch.from_numpy(y_train).to(device)\n",
    "    #梯度要清零，每一次迭代\n",
    "    optimizer.zero_grad()\n",
    "    #前向传播\n",
    "    outputs = model(inputs)\n",
    "    #计算损失\n",
    "    loss = criterion(outputs, labels)\n",
    "    #反向传播\n",
    "    loss.backward()\n",
    "    #更新权重参数\n",
    "    optimizer.step()\n",
    "    if epoch % 50 == 0:\n",
    "        print(\"epoch{}, loss{}\".format(epoch, loss.item()))\n",
    "    "
   ]
  },
  {
   "cell_type": "code",
   "execution_count": 24,
   "id": "1f513580",
   "metadata": {},
   "outputs": [
    {
     "data": {
      "text/plain": [
       "array([[ 0.9981228],\n",
       "       [ 2.998393 ],\n",
       "       [ 4.9986634],\n",
       "       [ 6.998934 ],\n",
       "       [ 8.999205 ],\n",
       "       [10.9994755],\n",
       "       [12.999745 ],\n",
       "       [15.000015 ],\n",
       "       [17.000286 ],\n",
       "       [19.000557 ],\n",
       "       [21.000828 ]], dtype=float32)"
      ]
     },
     "execution_count": 24,
     "metadata": {},
     "output_type": "execute_result"
    }
   ],
   "source": [
    "\n",
    "predicted = model(torch.from_numpy(x_train).requires_grad_()).data.numpy()\n",
    "predicted"
   ]
  },
  {
   "cell_type": "markdown",
   "id": "b48255f9",
   "metadata": {},
   "source": [
    "#模型保存与读取"
   ]
  },
  {
   "cell_type": "code",
   "execution_count": 27,
   "id": "e68b57a9",
   "metadata": {},
   "outputs": [
    {
     "data": {
      "text/plain": [
       "<All keys matched successfully>"
      ]
     },
     "execution_count": 27,
     "metadata": {},
     "output_type": "execute_result"
    }
   ],
   "source": [
    "torch.save(model.state_dict(), 'model.pkl')\n",
    "model.load_state_dict(torch.load('model.pkl'))"
   ]
  },
  {
   "cell_type": "code",
   "execution_count": 108,
   "id": "dfcb9bf2",
   "metadata": {},
   "outputs": [],
   "source": [
    "import numpy as np\n",
    "import pandas as pd\n",
    "import matplotlib.pyplot as plt\n",
    "import torch\n",
    "import torch.optim as optiom\n",
    "import warnings\n",
    "warnings.filterwarnings(\"ignore\")\n",
    "%matplotlib inline"
   ]
  },
  {
   "cell_type": "code",
   "execution_count": 152,
   "id": "f3cd9501",
   "metadata": {},
   "outputs": [
    {
     "data": {
      "text/html": [
       "<div>\n",
       "<style scoped>\n",
       "    .dataframe tbody tr th:only-of-type {\n",
       "        vertical-align: middle;\n",
       "    }\n",
       "\n",
       "    .dataframe tbody tr th {\n",
       "        vertical-align: top;\n",
       "    }\n",
       "\n",
       "    .dataframe thead th {\n",
       "        text-align: right;\n",
       "    }\n",
       "</style>\n",
       "<table border=\"1\" class=\"dataframe\">\n",
       "  <thead>\n",
       "    <tr style=\"text-align: right;\">\n",
       "      <th></th>\n",
       "      <th>year</th>\n",
       "      <th>month</th>\n",
       "      <th>day</th>\n",
       "      <th>week</th>\n",
       "      <th>temp_2</th>\n",
       "      <th>temp_1</th>\n",
       "      <th>average</th>\n",
       "      <th>actual</th>\n",
       "      <th>friend</th>\n",
       "    </tr>\n",
       "  </thead>\n",
       "  <tbody>\n",
       "    <tr>\n",
       "      <th>0</th>\n",
       "      <td>2016</td>\n",
       "      <td>1</td>\n",
       "      <td>1</td>\n",
       "      <td>Fri</td>\n",
       "      <td>45</td>\n",
       "      <td>45</td>\n",
       "      <td>45.6</td>\n",
       "      <td>45</td>\n",
       "      <td>29</td>\n",
       "    </tr>\n",
       "    <tr>\n",
       "      <th>1</th>\n",
       "      <td>2016</td>\n",
       "      <td>1</td>\n",
       "      <td>2</td>\n",
       "      <td>Sat</td>\n",
       "      <td>44</td>\n",
       "      <td>45</td>\n",
       "      <td>45.7</td>\n",
       "      <td>44</td>\n",
       "      <td>61</td>\n",
       "    </tr>\n",
       "    <tr>\n",
       "      <th>2</th>\n",
       "      <td>2016</td>\n",
       "      <td>1</td>\n",
       "      <td>3</td>\n",
       "      <td>Sun</td>\n",
       "      <td>45</td>\n",
       "      <td>44</td>\n",
       "      <td>45.8</td>\n",
       "      <td>41</td>\n",
       "      <td>56</td>\n",
       "    </tr>\n",
       "    <tr>\n",
       "      <th>3</th>\n",
       "      <td>2016</td>\n",
       "      <td>1</td>\n",
       "      <td>4</td>\n",
       "      <td>Mon</td>\n",
       "      <td>44</td>\n",
       "      <td>41</td>\n",
       "      <td>45.9</td>\n",
       "      <td>40</td>\n",
       "      <td>53</td>\n",
       "    </tr>\n",
       "    <tr>\n",
       "      <th>4</th>\n",
       "      <td>2016</td>\n",
       "      <td>1</td>\n",
       "      <td>5</td>\n",
       "      <td>Tues</td>\n",
       "      <td>41</td>\n",
       "      <td>40</td>\n",
       "      <td>46.0</td>\n",
       "      <td>44</td>\n",
       "      <td>41</td>\n",
       "    </tr>\n",
       "  </tbody>\n",
       "</table>\n",
       "</div>"
      ],
      "text/plain": [
       "   year  month  day  week  temp_2  temp_1  average  actual  friend\n",
       "0  2016      1    1   Fri      45      45     45.6      45      29\n",
       "1  2016      1    2   Sat      44      45     45.7      44      61\n",
       "2  2016      1    3   Sun      45      44     45.8      41      56\n",
       "3  2016      1    4   Mon      44      41     45.9      40      53\n",
       "4  2016      1    5  Tues      41      40     46.0      44      41"
      ]
     },
     "execution_count": 152,
     "metadata": {},
     "output_type": "execute_result"
    }
   ],
   "source": [
    "features = pd.read_csv(\"temps.csv\")\n",
    "features.head()\n",
    "# actual标签值 temp_2 前天的最高温度 temp_1 昨天的最高温度 average 在历史中每年这一天的平均最高温度"
   ]
  },
  {
   "cell_type": "code",
   "execution_count": 153,
   "id": "7f9b2e82",
   "metadata": {},
   "outputs": [
    {
     "data": {
      "text/plain": [
       "(348, 9)"
      ]
     },
     "execution_count": 153,
     "metadata": {},
     "output_type": "execute_result"
    }
   ],
   "source": [
    "features.shape"
   ]
  },
  {
   "cell_type": "code",
   "execution_count": 154,
   "id": "c04c988e",
   "metadata": {},
   "outputs": [],
   "source": [
    "import datetime"
   ]
  },
  {
   "cell_type": "markdown",
   "id": "3318f2d5",
   "metadata": {},
   "source": [
    "# 分别获得 年月日"
   ]
  },
  {
   "cell_type": "code",
   "execution_count": 155,
   "id": "74360521",
   "metadata": {},
   "outputs": [],
   "source": [
    "years = features['year']\n",
    "months = features[\"month\"]\n",
    "days = features[\"day\"]\n",
    "#datetime格式\n",
    "dates = [str(int(year)) + '-' + str(int(month)) + '-' + str(int(day)) for year, month, day in zip(years,months,days)]\n",
    "dates = [datetime.datetime.strptime(date, \"%Y-%m-%d\") for date in dates]"
   ]
  },
  {
   "cell_type": "code",
   "execution_count": 156,
   "id": "cc3f16a0",
   "metadata": {},
   "outputs": [
    {
     "data": {
      "text/html": [
       "<div>\n",
       "<style scoped>\n",
       "    .dataframe tbody tr th:only-of-type {\n",
       "        vertical-align: middle;\n",
       "    }\n",
       "\n",
       "    .dataframe tbody tr th {\n",
       "        vertical-align: top;\n",
       "    }\n",
       "\n",
       "    .dataframe thead th {\n",
       "        text-align: right;\n",
       "    }\n",
       "</style>\n",
       "<table border=\"1\" class=\"dataframe\">\n",
       "  <thead>\n",
       "    <tr style=\"text-align: right;\">\n",
       "      <th></th>\n",
       "      <th>year</th>\n",
       "      <th>month</th>\n",
       "      <th>day</th>\n",
       "      <th>week</th>\n",
       "      <th>temp_2</th>\n",
       "      <th>temp_1</th>\n",
       "      <th>average</th>\n",
       "      <th>actual</th>\n",
       "      <th>friend</th>\n",
       "    </tr>\n",
       "  </thead>\n",
       "  <tbody>\n",
       "    <tr>\n",
       "      <th>0</th>\n",
       "      <td>2016</td>\n",
       "      <td>1</td>\n",
       "      <td>1</td>\n",
       "      <td>Fri</td>\n",
       "      <td>45</td>\n",
       "      <td>45</td>\n",
       "      <td>45.6</td>\n",
       "      <td>45</td>\n",
       "      <td>29</td>\n",
       "    </tr>\n",
       "    <tr>\n",
       "      <th>1</th>\n",
       "      <td>2016</td>\n",
       "      <td>1</td>\n",
       "      <td>2</td>\n",
       "      <td>Sat</td>\n",
       "      <td>44</td>\n",
       "      <td>45</td>\n",
       "      <td>45.7</td>\n",
       "      <td>44</td>\n",
       "      <td>61</td>\n",
       "    </tr>\n",
       "    <tr>\n",
       "      <th>2</th>\n",
       "      <td>2016</td>\n",
       "      <td>1</td>\n",
       "      <td>3</td>\n",
       "      <td>Sun</td>\n",
       "      <td>45</td>\n",
       "      <td>44</td>\n",
       "      <td>45.8</td>\n",
       "      <td>41</td>\n",
       "      <td>56</td>\n",
       "    </tr>\n",
       "    <tr>\n",
       "      <th>3</th>\n",
       "      <td>2016</td>\n",
       "      <td>1</td>\n",
       "      <td>4</td>\n",
       "      <td>Mon</td>\n",
       "      <td>44</td>\n",
       "      <td>41</td>\n",
       "      <td>45.9</td>\n",
       "      <td>40</td>\n",
       "      <td>53</td>\n",
       "    </tr>\n",
       "    <tr>\n",
       "      <th>4</th>\n",
       "      <td>2016</td>\n",
       "      <td>1</td>\n",
       "      <td>5</td>\n",
       "      <td>Tues</td>\n",
       "      <td>41</td>\n",
       "      <td>40</td>\n",
       "      <td>46.0</td>\n",
       "      <td>44</td>\n",
       "      <td>41</td>\n",
       "    </tr>\n",
       "    <tr>\n",
       "      <th>...</th>\n",
       "      <td>...</td>\n",
       "      <td>...</td>\n",
       "      <td>...</td>\n",
       "      <td>...</td>\n",
       "      <td>...</td>\n",
       "      <td>...</td>\n",
       "      <td>...</td>\n",
       "      <td>...</td>\n",
       "      <td>...</td>\n",
       "    </tr>\n",
       "    <tr>\n",
       "      <th>343</th>\n",
       "      <td>2016</td>\n",
       "      <td>12</td>\n",
       "      <td>27</td>\n",
       "      <td>Tues</td>\n",
       "      <td>42</td>\n",
       "      <td>42</td>\n",
       "      <td>45.2</td>\n",
       "      <td>47</td>\n",
       "      <td>47</td>\n",
       "    </tr>\n",
       "    <tr>\n",
       "      <th>344</th>\n",
       "      <td>2016</td>\n",
       "      <td>12</td>\n",
       "      <td>28</td>\n",
       "      <td>Wed</td>\n",
       "      <td>42</td>\n",
       "      <td>47</td>\n",
       "      <td>45.3</td>\n",
       "      <td>48</td>\n",
       "      <td>58</td>\n",
       "    </tr>\n",
       "    <tr>\n",
       "      <th>345</th>\n",
       "      <td>2016</td>\n",
       "      <td>12</td>\n",
       "      <td>29</td>\n",
       "      <td>Thurs</td>\n",
       "      <td>47</td>\n",
       "      <td>48</td>\n",
       "      <td>45.3</td>\n",
       "      <td>48</td>\n",
       "      <td>65</td>\n",
       "    </tr>\n",
       "    <tr>\n",
       "      <th>346</th>\n",
       "      <td>2016</td>\n",
       "      <td>12</td>\n",
       "      <td>30</td>\n",
       "      <td>Fri</td>\n",
       "      <td>48</td>\n",
       "      <td>48</td>\n",
       "      <td>45.4</td>\n",
       "      <td>57</td>\n",
       "      <td>42</td>\n",
       "    </tr>\n",
       "    <tr>\n",
       "      <th>347</th>\n",
       "      <td>2016</td>\n",
       "      <td>12</td>\n",
       "      <td>31</td>\n",
       "      <td>Sat</td>\n",
       "      <td>48</td>\n",
       "      <td>57</td>\n",
       "      <td>45.5</td>\n",
       "      <td>40</td>\n",
       "      <td>57</td>\n",
       "    </tr>\n",
       "  </tbody>\n",
       "</table>\n",
       "<p>348 rows × 9 columns</p>\n",
       "</div>"
      ],
      "text/plain": [
       "     year  month  day   week  temp_2  temp_1  average  actual  friend\n",
       "0    2016      1    1    Fri      45      45     45.6      45      29\n",
       "1    2016      1    2    Sat      44      45     45.7      44      61\n",
       "2    2016      1    3    Sun      45      44     45.8      41      56\n",
       "3    2016      1    4    Mon      44      41     45.9      40      53\n",
       "4    2016      1    5   Tues      41      40     46.0      44      41\n",
       "..    ...    ...  ...    ...     ...     ...      ...     ...     ...\n",
       "343  2016     12   27   Tues      42      42     45.2      47      47\n",
       "344  2016     12   28    Wed      42      47     45.3      48      58\n",
       "345  2016     12   29  Thurs      47      48     45.3      48      65\n",
       "346  2016     12   30    Fri      48      48     45.4      57      42\n",
       "347  2016     12   31    Sat      48      57     45.5      40      57\n",
       "\n",
       "[348 rows x 9 columns]"
      ]
     },
     "execution_count": 156,
     "metadata": {},
     "output_type": "execute_result"
    }
   ],
   "source": [
    "dates[:5]\n",
    "features"
   ]
  },
  {
   "cell_type": "markdown",
   "id": "77b66f24",
   "metadata": {},
   "source": [
    "# 画图"
   ]
  },
  {
   "cell_type": "code",
   "execution_count": 157,
   "id": "6090601f",
   "metadata": {},
   "outputs": [
    {
     "data": {
      "image/png": "[encoded data removed]",
      "text/plain": [
       "<Figure size 720x720 with 4 Axes>"
      ]
     },
     "metadata": {},
     "output_type": "display_data"
    }
   ],
   "source": [
    "# 指定默认风格\n",
    "plt.style.use(\"fivethirtyeight\")\n",
    "# 设置布局\n",
    "fig, ((ax1, ax2),(ax3, ax4)) = plt.subplots(nrows = 2, ncols=2, figsize = (10,10))\n",
    "fig.autofmt_xdate(rotation=45)# x轴倾斜45°\n",
    "#标签值\n",
    "ax1.plot(dates, features[\"actual\"])\n",
    "ax1.set_xlabel('');\n",
    "ax1.set_ylabel('Temperature');\n",
    "ax1.set_title('Max Temp')\n",
    "\n",
    "#昨天\n",
    "ax2.plot(dates, features[\"temp_1\"])\n",
    "ax2.set_xlabel('');\n",
    "ax2.set_ylabel('Temperature');\n",
    "ax2.set_title('Previous Max Temp')\n",
    "\n",
    "#前天\n",
    "ax3.plot(dates, features[\"temp_2\"])\n",
    "ax3.set_xlabel('Date');\n",
    "ax3.set_ylabel('Temperature');\n",
    "ax3.set_title('Two Days Prior Max Temp')\n",
    "\n",
    "#friend\n",
    "ax4.plot(dates, features[\"friend\"])\n",
    "ax4.set_xlabel('Date');\n",
    "ax4.set_ylabel('Temperature');\n",
    "ax4.set_title('Friend Estimate')\n",
    "\n",
    "plt.tight_layout(pad=2)"
   ]
  },
  {
   "cell_type": "markdown",
   "id": "6f6f6a76",
   "metadata": {},
   "source": [
    "#one-hot编码 对week列热编码"
   ]
  },
  {
   "cell_type": "code",
   "execution_count": 158,
   "id": "a0ea1c8d",
   "metadata": {},
   "outputs": [
    {
     "data": {
      "text/html": [
       "<div>\n",
       "<style scoped>\n",
       "    .dataframe tbody tr th:only-of-type {\n",
       "        vertical-align: middle;\n",
       "    }\n",
       "\n",
       "    .dataframe tbody tr th {\n",
       "        vertical-align: top;\n",
       "    }\n",
       "\n",
       "    .dataframe thead th {\n",
       "        text-align: right;\n",
       "    }\n",
       "</style>\n",
       "<table border=\"1\" class=\"dataframe\">\n",
       "  <thead>\n",
       "    <tr style=\"text-align: right;\">\n",
       "      <th></th>\n",
       "      <th>year</th>\n",
       "      <th>month</th>\n",
       "      <th>day</th>\n",
       "      <th>temp_2</th>\n",
       "      <th>temp_1</th>\n",
       "      <th>average</th>\n",
       "      <th>actual</th>\n",
       "      <th>friend</th>\n",
       "      <th>week_Fri</th>\n",
       "      <th>week_Mon</th>\n",
       "      <th>week_Sat</th>\n",
       "      <th>week_Sun</th>\n",
       "      <th>week_Thurs</th>\n",
       "      <th>week_Tues</th>\n",
       "      <th>week_Wed</th>\n",
       "    </tr>\n",
       "  </thead>\n",
       "  <tbody>\n",
       "    <tr>\n",
       "      <th>0</th>\n",
       "      <td>2016</td>\n",
       "      <td>1</td>\n",
       "      <td>1</td>\n",
       "      <td>45</td>\n",
       "      <td>45</td>\n",
       "      <td>45.6</td>\n",
       "      <td>45</td>\n",
       "      <td>29</td>\n",
       "      <td>1</td>\n",
       "      <td>0</td>\n",
       "      <td>0</td>\n",
       "      <td>0</td>\n",
       "      <td>0</td>\n",
       "      <td>0</td>\n",
       "      <td>0</td>\n",
       "    </tr>\n",
       "    <tr>\n",
       "      <th>1</th>\n",
       "      <td>2016</td>\n",
       "      <td>1</td>\n",
       "      <td>2</td>\n",
       "      <td>44</td>\n",
       "      <td>45</td>\n",
       "      <td>45.7</td>\n",
       "      <td>44</td>\n",
       "      <td>61</td>\n",
       "      <td>0</td>\n",
       "      <td>0</td>\n",
       "      <td>1</td>\n",
       "      <td>0</td>\n",
       "      <td>0</td>\n",
       "      <td>0</td>\n",
       "      <td>0</td>\n",
       "    </tr>\n",
       "    <tr>\n",
       "      <th>2</th>\n",
       "      <td>2016</td>\n",
       "      <td>1</td>\n",
       "      <td>3</td>\n",
       "      <td>45</td>\n",
       "      <td>44</td>\n",
       "      <td>45.8</td>\n",
       "      <td>41</td>\n",
       "      <td>56</td>\n",
       "      <td>0</td>\n",
       "      <td>0</td>\n",
       "      <td>0</td>\n",
       "      <td>1</td>\n",
       "      <td>0</td>\n",
       "      <td>0</td>\n",
       "      <td>0</td>\n",
       "    </tr>\n",
       "    <tr>\n",
       "      <th>3</th>\n",
       "      <td>2016</td>\n",
       "      <td>1</td>\n",
       "      <td>4</td>\n",
       "      <td>44</td>\n",
       "      <td>41</td>\n",
       "      <td>45.9</td>\n",
       "      <td>40</td>\n",
       "      <td>53</td>\n",
       "      <td>0</td>\n",
       "      <td>1</td>\n",
       "      <td>0</td>\n",
       "      <td>0</td>\n",
       "      <td>0</td>\n",
       "      <td>0</td>\n",
       "      <td>0</td>\n",
       "    </tr>\n",
       "    <tr>\n",
       "      <th>4</th>\n",
       "      <td>2016</td>\n",
       "      <td>1</td>\n",
       "      <td>5</td>\n",
       "      <td>41</td>\n",
       "      <td>40</td>\n",
       "      <td>46.0</td>\n",
       "      <td>44</td>\n",
       "      <td>41</td>\n",
       "      <td>0</td>\n",
       "      <td>0</td>\n",
       "      <td>0</td>\n",
       "      <td>0</td>\n",
       "      <td>0</td>\n",
       "      <td>1</td>\n",
       "      <td>0</td>\n",
       "    </tr>\n",
       "  </tbody>\n",
       "</table>\n",
       "</div>"
      ],
      "text/plain": [
       "   year  month  day  temp_2  temp_1  average  actual  friend  week_Fri  \\\n",
       "0  2016      1    1      45      45     45.6      45      29         1   \n",
       "1  2016      1    2      44      45     45.7      44      61         0   \n",
       "2  2016      1    3      45      44     45.8      41      56         0   \n",
       "3  2016      1    4      44      41     45.9      40      53         0   \n",
       "4  2016      1    5      41      40     46.0      44      41         0   \n",
       "\n",
       "   week_Mon  week_Sat  week_Sun  week_Thurs  week_Tues  week_Wed  \n",
       "0         0         0         0           0          0         0  \n",
       "1         0         1         0           0          0         0  \n",
       "2         0         0         1           0          0         0  \n",
       "3         1         0         0           0          0         0  \n",
       "4         0         0         0           0          1         0  "
      ]
     },
     "execution_count": 158,
     "metadata": {},
     "output_type": "execute_result"
    }
   ],
   "source": [
    "features = pd.get_dummies(features)\n",
    "features.head(5)"
   ]
  },
  {
   "cell_type": "code",
   "execution_count": 159,
   "id": "f1717aaf",
   "metadata": {},
   "outputs": [
    {
     "data": {
      "text/plain": [
       "array([45, 44, 41, 40, 44, 51, 45, 48, 50, 52, 45, 49, 55, 49, 48, 54, 50,\n",
       "       54, 48, 52, 52, 57, 48, 51, 54, 56, 57, 56, 52, 48, 47, 46, 51, 49,\n",
       "       49, 53, 49, 51, 57, 62, 56, 55, 58, 55, 56, 57, 53, 51, 53, 51, 51,\n",
       "       60, 59, 61, 60, 57, 53, 58, 55, 59, 57, 64, 60, 53, 54, 55, 56, 55,\n",
       "       52, 54, 49, 51, 53, 58, 63, 61, 55, 56, 57, 53, 54, 57, 59, 51, 56,\n",
       "       64, 68, 73, 71, 63, 69, 60, 57, 68, 77, 76, 66, 59, 58, 60, 59, 59,\n",
       "       60, 68, 77, 89, 81, 81, 73, 64, 65, 55, 59, 60, 61, 64, 61, 68, 77,\n",
       "       87, 74, 60, 68, 77, 82, 63, 67, 75, 81, 77, 82, 65, 57, 60, 71, 64,\n",
       "       63, 66, 59, 66, 65, 66, 66, 65, 64, 64, 64, 71, 79, 75, 71, 80, 81,\n",
       "       92, 86, 85, 67, 65, 67, 65, 70, 66, 60, 67, 71, 67, 65, 70, 76, 73,\n",
       "       75, 68, 69, 71, 78, 85, 79, 74, 73, 76, 76, 71, 68, 69, 76, 68, 74,\n",
       "       71, 74, 74, 77, 75, 77, 76, 72, 80, 73, 78, 82, 81, 71, 75, 80, 85,\n",
       "       79, 83, 85, 88, 76, 73, 77, 73, 75, 80, 79, 72, 72, 73, 72, 76, 80,\n",
       "       87, 90, 83, 84, 81, 79, 75, 70, 67, 68, 68, 68, 67, 72, 74, 77, 70,\n",
       "       74, 75, 79, 71, 75, 68, 69, 71, 67, 68, 67, 64, 67, 76, 77, 69, 68,\n",
       "       66, 67, 63, 65, 61, 63, 66, 63, 64, 68, 57, 60, 62, 66, 60, 60, 62,\n",
       "       60, 60, 61, 58, 62, 59, 62, 62, 61, 65, 58, 60, 65, 68, 59, 57, 57,\n",
       "       65, 65, 58, 61, 63, 71, 65, 64, 63, 59, 55, 57, 55, 50, 52, 55, 57,\n",
       "       55, 54, 54, 49, 52, 52, 53, 48, 52, 52, 52, 46, 50, 49, 46, 40, 42,\n",
       "       40, 41, 36, 44, 44, 43, 40, 39, 39, 35, 35, 39, 46, 51, 49, 45, 40,\n",
       "       41, 42, 42, 47, 48, 48, 57, 40], dtype=int64)"
      ]
     },
     "execution_count": 159,
     "metadata": {},
     "output_type": "execute_result"
    }
   ],
   "source": [
    "# 标签 并且转换为ndarray\n",
    "labels = np.array(features[\"actual\"])\n",
    "labels"
   ]
  },
  {
   "cell_type": "code",
   "execution_count": 160,
   "id": "028128e4",
   "metadata": {},
   "outputs": [],
   "source": [
    "# 在data中剔除该列\n",
    "features = features.drop(\"actual\", axis=1)"
   ]
  },
  {
   "cell_type": "code",
   "execution_count": 161,
   "id": "f6494e7f",
   "metadata": {},
   "outputs": [],
   "source": [
    "# 保存列名\n",
    "feature_list = list(features.columns)\n",
    "# 转换为ndarray\n",
    "features = np.array(features)"
   ]
  },
  {
   "cell_type": "code",
   "execution_count": 162,
   "id": "366c53dc",
   "metadata": {},
   "outputs": [
    {
     "data": {
      "text/plain": [
       "(348, 14)"
      ]
     },
     "execution_count": 162,
     "metadata": {},
     "output_type": "execute_result"
    }
   ],
   "source": [
    "features.shape"
   ]
  },
  {
   "cell_type": "markdown",
   "id": "75ffec16",
   "metadata": {},
   "source": [
    "# 标准化"
   ]
  },
  {
   "cell_type": "code",
   "execution_count": 163,
   "id": "1f0fac07",
   "metadata": {},
   "outputs": [
    {
     "data": {
      "text/plain": [
       "array([[ 0.        , -1.5678393 , -1.65682171, ..., -0.40482045,\n",
       "        -0.41913682, -0.40482045],\n",
       "       [ 0.        , -1.5678393 , -1.54267126, ..., -0.40482045,\n",
       "        -0.41913682, -0.40482045],\n",
       "       [ 0.        , -1.5678393 , -1.4285208 , ..., -0.40482045,\n",
       "        -0.41913682, -0.40482045],\n",
       "       ...,\n",
       "       [ 0.        ,  1.5810006 ,  1.53939107, ...,  2.47023092,\n",
       "        -0.41913682, -0.40482045],\n",
       "       [ 0.        ,  1.5810006 ,  1.65354153, ..., -0.40482045,\n",
       "        -0.41913682, -0.40482045],\n",
       "       [ 0.        ,  1.5810006 ,  1.76769198, ..., -0.40482045,\n",
       "        -0.41913682, -0.40482045]])"
      ]
     },
     "execution_count": 163,
     "metadata": {},
     "output_type": "execute_result"
    }
   ],
   "source": [
    "from sklearn import preprocessing\n",
    "input_features = preprocessing.StandardScaler().fit_transform(features)\n",
    "input_features"
   ]
  },
  {
   "cell_type": "code",
   "execution_count": 164,
   "id": "a0a698ac",
   "metadata": {},
   "outputs": [],
   "source": [
    "#数据格式转换\n",
    "x = torch.tensor(input_features, dtype = float)\n",
    "y = torch.tensor(labels, dtype = float)\n",
    "#权重，偏置参数初始化 且需要计算梯度\n",
    "weights = torch.randn((14, 128), dtype = float, requires_grad = True)\n",
    "biases = torch.randn(128, dtype = float, requires_grad = True)\n",
    "weights2 = torch.randn((128, 1), dtype = float, requires_grad = True)\n",
    "biases2= torch.randn(1, dtype = float, requires_grad = True)\n",
    "learning_rate = 0.001\n",
    "losses = []"
   ]
  },
  {
   "cell_type": "code",
   "execution_count": 165,
   "id": "7995b4b2",
   "metadata": {},
   "outputs": [
    {
     "data": {
      "text/plain": [
       "torch.float64"
      ]
     },
     "execution_count": 165,
     "metadata": {},
     "output_type": "execute_result"
    }
   ],
   "source": [
    "x.dtype"
   ]
  },
  {
   "cell_type": "code",
   "execution_count": 166,
   "id": "cff9957c",
   "metadata": {},
   "outputs": [
    {
     "name": "stdout",
     "output_type": "stream",
     "text": [
      "loss: tensor(7476.0961, dtype=torch.float64, grad_fn=<MeanBackward0>)\n",
      "loss: tensor(158.0944, dtype=torch.float64, grad_fn=<MeanBackward0>)\n",
      "loss: tensor(147.2174, dtype=torch.float64, grad_fn=<MeanBackward0>)\n",
      "loss: tensor(143.9512, dtype=torch.float64, grad_fn=<MeanBackward0>)\n",
      "loss: tensor(142.4713, dtype=torch.float64, grad_fn=<MeanBackward0>)\n",
      "loss: tensor(141.6401, dtype=torch.float64, grad_fn=<MeanBackward0>)\n",
      "loss: tensor(141.1182, dtype=torch.float64, grad_fn=<MeanBackward0>)\n",
      "loss: tensor(140.7574, dtype=torch.float64, grad_fn=<MeanBackward0>)\n",
      "loss: tensor(140.5026, dtype=torch.float64, grad_fn=<MeanBackward0>)\n",
      "loss: tensor(140.3074, dtype=torch.float64, grad_fn=<MeanBackward0>)\n"
     ]
    }
   ],
   "source": [
    "for i in range(1000):\n",
    "    # 计算隐层\n",
    "    hidden = x.mm(weights) + biases\n",
    "    #加入激活函数\n",
    "    hidden = torch.relu(hidden)\n",
    "    # 预测结果回归值，收敛于某个数\n",
    "    predictions = hidden.mm(weights2)+biases2\n",
    "    # 计算损失 均方误差\n",
    "    loss = torch.mean((predictions-y)**2)\n",
    "    losses.append(loss.data.numpy())\n",
    "    # 损失值打印\n",
    "    if i%100 == 0:\n",
    "        print(\"loss:\", loss)\n",
    "    #反向传播计算\n",
    "    loss.backward()\n",
    "    # 更新参数\n",
    "    weights.data.add_(- learning_rate * weights.grad.data)\n",
    "    biases.data.add_(- learning_rate * biases.grad.data)\n",
    "    weights2.data.add_(- learning_rate * weights2.grad.data)\n",
    "    biases2.data.add_(- learning_rate * biases2.grad.data)\n",
    "    #每次迭代清空梯度值\n",
    "    weights.grad.data.zero_()\n",
    "    biases.grad.data.zero_()\n",
    "    weights2.grad.data.zero_()\n",
    "    biases2.grad.data.zero_()"
   ]
  },
  {
   "cell_type": "markdown",
   "id": "cfae2e8c",
   "metadata": {},
   "source": [
    "# 构建相对简单的网络模型"
   ]
  },
  {
   "cell_type": "code",
   "execution_count": 167,
   "id": "28bf2b04",
   "metadata": {},
   "outputs": [],
   "source": [
    "input_size = input_features.shape[1]\n",
    "hidden_size = 128\n",
    "output_size = 1\n",
    "batch_size = 16\n",
    "my_nn = torch.nn.Sequential(\n",
    "    torch.nn.Linear(input_size, hidden_size),\n",
    "    torch.nn.Sigmoid(),\n",
    "    torch.nn.Linear(hidden_size, output_size),\n",
    ")\n",
    "cost = torch.nn.MSELoss(reduction='mean')\n",
    "#损失函数优化器\n",
    "optimizer = torch.optim.Adam(my_nn.parameters(), lr = 0.001)\n",
    "# optimizer = torch.optim.SGD(my_nn.parameters(), lr = 0.001)"
   ]
  },
  {
   "cell_type": "code",
   "execution_count": 168,
   "id": "70d2ea5b",
   "metadata": {},
   "outputs": [
    {
     "name": "stdout",
     "output_type": "stream",
     "text": [
      "0 3974.4521\n",
      "100 37.65112\n",
      "200 35.662315\n",
      "300 35.31799\n",
      "400 35.14712\n",
      "500 35.00972\n",
      "600 34.888836\n",
      "700 34.771255\n",
      "800 34.650837\n",
      "900 34.52489\n"
     ]
    }
   ],
   "source": [
    "# 训练网络\n",
    "losses = []\n",
    "for i in range(1000):\n",
    "    batch_loss = []\n",
    "    for start in range(0, len(input_features), batch_size):\n",
    "        end = start+ batch_size if start + batch_size<len(input_features) else len(input_features)\n",
    "        xx = torch.tensor(input_features[start:end], dtype = torch.float, requires_grad = True)\n",
    "        yy = torch.tensor(labels[start:end], dtype = torch.float, requires_grad = True)\n",
    "        prediction = my_nn(xx)\n",
    "        loss = cost(prediction, yy)\n",
    "        optimizer.zero_grad()\n",
    "        loss.backward(retain_graph=True)\n",
    "        optimizer.step()\n",
    "        batch_loss.append(loss.data.numpy())\n",
    "        \n",
    "    #打印损失\n",
    "    if i%100 == 0:\n",
    "        losses.append(np.mean(batch_loss))\n",
    "        print(i,np.mean(batch_loss))"
   ]
  },
  {
   "cell_type": "markdown",
   "id": "53a37f42",
   "metadata": {},
   "source": [
    "#预测结果"
   ]
  },
  {
   "cell_type": "code",
   "execution_count": 169,
   "id": "0128adf8",
   "metadata": {},
   "outputs": [],
   "source": [
    "x = torch.tensor(input_features, dtype = torch.float)\n",
    "predict = my_nn(x).data.numpy()"
   ]
  },
  {
   "cell_type": "code",
   "execution_count": 170,
   "id": "daab86de",
   "metadata": {},
   "outputs": [],
   "source": [
    "#日期处理\n",
    "dates = [str(int(year)) + '-' + str(int(month)) + '-' + str(int(day)) for year, month, day in zip(years,months,days)]\n",
    "dates = [datetime.datetime.strptime(date, \"%Y-%m-%d\") for date in dates]\n",
    "#创建一个表格来存日期和其对应的标签数值\n",
    "true_data = pd.DataFrame(data = {\"date\": dates, \"actual\":labels})\n",
    "months = features[:,feature_list.index(\"month\")]\n",
    "days = features[:,feature_list.index(\"day\")]\n",
    "years = features[:,feature_list.index(\"year\")]\n",
    "test_dates = [str(int(year)) + '-' + str(int(month)) + '-' + str(int(day)) for year, month, day in zip(years,months,days)]\n",
    "test_dates = [datetime.datetime.strptime(date, \"%Y-%m-%d\") for date in test_dates]\n",
    "predictions_data = pd.DataFrame(data = {\"data\":test_dates, \"prediction\":predict.reshape(-1)})"
   ]
  },
  {
   "cell_type": "code",
   "execution_count": 173,
   "id": "7667fa0e",
   "metadata": {},
   "outputs": [
    {
     "data": {
      "text/plain": [
       "Text(0.5, 1.0, 'Actual and Predicted Values')"
      ]
     },
     "execution_count": 173,
     "metadata": {},
     "output_type": "execute_result"
    },
    {
     "data": {
      "image/png": "[encoded data removed]",
      "text/plain": [
       "<Figure size 432x288 with 1 Axes>"
      ]
     },
     "metadata": {},
     "output_type": "display_data"
    }
   ],
   "source": [
    "#真实值\n",
    "plt.plot(true_data[\"date\"], true_data[\"actual\"], \"b-\", label = \"actual\")\n",
    "#预测值\n",
    "plt.plot(predictions_data[\"data\"], predictions_data[\"prediction\"], \"ro\", label = \"prediction\")\n",
    "plt.xticks(rotation=\"60\");\n",
    "plt.legend()\n",
    "#图名\n",
    "plt.xlabel(\"Date\");\n",
    "plt.ylabel(\"Maximum Temperature (F)\");\n",
    "plt.title(\"Actual and Predicted Values\")"
   ]
  },
  {
   "cell_type": "code",
   "execution_count": null,
   "id": "ad1ba8d2",
   "metadata": {},
   "outputs": [],
   "source": []
  },
  {
   "cell_type": "code",
   "execution_count": null,
   "id": "90709d92",
   "metadata": {},
   "outputs": [],
   "source": []
  }
 ],
 "metadata": {
  "kernelspec": {
   "display_name": "Python 3 (ipykernel)",
   "language": "python",
   "name": "python3"
  },
  "language_info": {
   "codemirror_mode": {
    "name": "ipython",
    "version": 3
   },
   "file_extension": ".py",
   "mimetype": "text/x-python",
   "name": "python",
   "nbconvert_exporter": "python",
   "pygments_lexer": "ipython3",
   "version": "3.9.5"
  }
 },
 "nbformat": 4,
 "nbformat_minor": 5
}
