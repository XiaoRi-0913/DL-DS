{
 "cells": [
  {
   "cell_type": "code",
   "execution_count": 15,
   "id": "cc7fd61d",
   "metadata": {},
   "outputs": [],
   "source": [
    "import numpy as np\n",
    "import pandas as pd\n",
    "import torch\n",
    "import torch.nn as nn"
   ]
  },
  {
   "cell_type": "code",
   "execution_count": 45,
   "id": "e83249d1",
   "metadata": {},
   "outputs": [],
   "source": [
    "data = pd.read_csv(\"test.vcf\",sep=\"\\t\",header=0)\n",
    "data = np.array(data, dtype=np.string_).T"
   ]
  },
  {
   "cell_type": "code",
   "execution_count": 46,
   "id": "3b947e23",
   "metadata": {},
   "outputs": [
    {
     "data": {
      "text/plain": [
       "array([[b'0/1', b'0/1', b'0/1', ..., b'0/0', b'1/1', b'1/1'],\n",
       "       [b'0/1', b'0/1', b'0/1', ..., b'0/1', b'0/1', b'0/1'],\n",
       "       [b'0/0', b'0/0', b'0/0', ..., b'1/1', b'1/1', b'1/1'],\n",
       "       ...,\n",
       "       [b'0/1', b'0/1', b'0/1', ..., b'0/0', b'0/1', b'0/1'],\n",
       "       [b'0/1', b'0/1', b'0/1', ..., b'0/0', b'0/1', b'0/1'],\n",
       "       [b'0/0', b'0/1', b'0/1', ..., b'1/1', b'1/1', b'1/1']], dtype='|S3')"
      ]
     },
     "execution_count": 46,
     "metadata": {},
     "output_type": "execute_result"
    }
   ],
   "source": [
    "data"
   ]
  },
  {
   "cell_type": "code",
   "execution_count": 47,
   "id": "53eb45dd",
   "metadata": {},
   "outputs": [
    {
     "data": {
      "text/plain": [
       "(532, 40601)"
      ]
     },
     "execution_count": 47,
     "metadata": {},
     "output_type": "execute_result"
    }
   ],
   "source": [
    "all_snp=data[9:-1,]\n",
    "all_snp.shape"
   ]
  },
  {
   "cell_type": "code",
   "execution_count": 48,
   "id": "0ec3b1b0",
   "metadata": {},
   "outputs": [
    {
     "data": {
      "text/plain": [
       "array([[[b'0/0'],\n",
       "        [b'0/1'],\n",
       "        [b'0/1'],\n",
       "        ...,\n",
       "        [b'0/1'],\n",
       "        [b'0/1'],\n",
       "        [b'0/1']],\n",
       "\n",
       "       [[b'0/0'],\n",
       "        [b'0/0'],\n",
       "        [b'0/0'],\n",
       "        ...,\n",
       "        [b'0/1'],\n",
       "        [b'0/1'],\n",
       "        [b'0/1']],\n",
       "\n",
       "       [[b'0/0'],\n",
       "        [b'0/0'],\n",
       "        [b'0/0'],\n",
       "        ...,\n",
       "        [b'0/1'],\n",
       "        [b'0/1'],\n",
       "        [b'0/1']],\n",
       "\n",
       "       ...,\n",
       "\n",
       "       [[b'0/0'],\n",
       "        [b'0/0'],\n",
       "        [b'0/0'],\n",
       "        ...,\n",
       "        [b'0/1'],\n",
       "        [b'0/1'],\n",
       "        [b'0/1']],\n",
       "\n",
       "       [[b'0/1'],\n",
       "        [b'0/1'],\n",
       "        [b'0/1'],\n",
       "        ...,\n",
       "        [b'0/0'],\n",
       "        [b'0/1'],\n",
       "        [b'0/1']],\n",
       "\n",
       "       [[b'0/1'],\n",
       "        [b'0/1'],\n",
       "        [b'0/1'],\n",
       "        ...,\n",
       "        [b'0/0'],\n",
       "        [b'0/1'],\n",
       "        [b'0/1']]], dtype='|S3')"
      ]
     },
     "execution_count": 48,
     "metadata": {},
     "output_type": "execute_result"
    }
   ],
   "source": [
    "all_snp.reshape(532, 40601, 1)"
   ]
  },
  {
   "cell_type": "code",
   "execution_count": 49,
   "id": "90676cf5",
   "metadata": {},
   "outputs": [
    {
     "data": {
      "text/plain": [
       "dtype('S3')"
      ]
     },
     "execution_count": 49,
     "metadata": {},
     "output_type": "execute_result"
    }
   ],
   "source": [
    "all_snp.dtype"
   ]
  },
  {
   "cell_type": "code",
   "execution_count": 54,
   "id": "71634038",
   "metadata": {},
   "outputs": [
    {
     "data": {
      "text/plain": [
       "48"
      ]
     },
     "execution_count": 54,
     "metadata": {},
     "output_type": "execute_result"
    }
   ],
   "source": [
    "all_snp[0][0][0]"
   ]
  },
  {
   "cell_type": "code",
   "execution_count": null,
   "id": "2587f88b",
   "metadata": {},
   "outputs": [],
   "source": []
  }
 ],
 "metadata": {
  "kernelspec": {
   "display_name": "Python 3 (ipykernel)",
   "language": "python",
   "name": "python3"
  },
  "language_info": {
   "codemirror_mode": {
    "name": "ipython",
    "version": 3
   },
   "file_extension": ".py",
   "mimetype": "text/x-python",
   "name": "python",
   "nbconvert_exporter": "python",
   "pygments_lexer": "ipython3",
   "version": "3.9.5"
  }
 },
 "nbformat": 4,
 "nbformat_minor": 5
}
